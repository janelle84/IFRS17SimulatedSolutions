{
  "nbformat": 4,
  "nbformat_minor": 0,
  "metadata": {
    "colab": {
      "provenance": []
    },
    "kernelspec": {
      "name": "python3",
      "display_name": "Python 3"
    },
    "language_info": {
      "name": "python"
    }
  },
  "cells": [
    {
      "cell_type": "markdown",
      "source": [
        "# Import Libraries and Set Up Data"
      ],
      "metadata": {
        "id": "otQaQmRiApdZ"
      }
    },
    {
      "cell_type": "code",
      "execution_count": null,
      "metadata": {
        "id": "2XQ13Cy9AfQM"
      },
      "outputs": [],
      "source": [
        "# Import libraries\n",
        "import numpy as np\n",
        "import pandas as pd\n",
        "import matplotlib.pyplot as plt"
      ]
    },
    {
      "cell_type": "code",
      "source": [
        "# Set up synthetic insurance data\n",
        "num_policies = 1000\n",
        "np.random.seed(42)\n",
        "\n",
        "# Generate sample insurance policy data\n",
        "data = {\n",
        "    'Policy ID': range(1, num_policies + 1),\n",
        "    'Inception Date': pd.date_range(start='2023-01-01', periods=num_policies, freq='D'),\n",
        "    'Coverage Period (Years)': np.random.randint(1, 20, num_policies),\n",
        "    'Annual Premium (CU)': np.random.randint(500, 5000, num_policies),\n",
        "    'Expected Annual Claims (CU)': np.random.randint(200, 3000, num_policies),\n",
        "    'Discount Rate (%)': np.random.uniform(3, 5, num_policies),\n",
        "    'Risk Adjustment (CU)': np.random.uniform(10, 100, num_policies),\n",
        "    'Directly Attributable Expenses (CU)': np.random.uniform(100, 500, num_policies), # e.g., acquisition cost\n",
        "    'Non-Attributable Expenses (CU)': np.random.uniform(50, 200, num_policies)       # e.g., general overhead\n",
        "}\n",
        "\n",
        "df = pd.DataFrame(data)\n",
        "df['Discount Rate'] = df['Discount Rate (%)'] / 100\n",
        "df.head()"
      ],
      "metadata": {
        "colab": {
          "base_uri": "https://localhost:8080/",
          "height": 241
        },
        "id": "0IjnNwyRBTk5",
        "outputId": "7f6cb759-8653-45c6-9740-c34d8d5c25a2"
      },
      "execution_count": null,
      "outputs": [
        {
          "output_type": "execute_result",
          "data": {
            "text/plain": [
              "   Policy ID Inception Date  Coverage Period (Years)  Annual Premium (CU)  \\\n",
              "0          1     2023-01-01                        7                 1981   \n",
              "1          2     2023-01-02                       15                 2401   \n",
              "2          3     2023-01-03                       11                 3951   \n",
              "3          4     2023-01-04                        8                 4564   \n",
              "4          5     2023-01-05                        7                  554   \n",
              "\n",
              "   Expected Annual Claims (CU)  Discount Rate (%)  Risk Adjustment (CU)  \\\n",
              "0                          828           3.249642             53.964607   \n",
              "1                         2757           4.588421             46.169848   \n",
              "2                         1931           3.551535             23.832194   \n",
              "3                          745           4.754181             61.534651   \n",
              "4                         1787           4.888084             34.931127   \n",
              "\n",
              "   Directly Attributable Expenses (CU)  Non-Attributable Expenses (CU)  \\\n",
              "0                           337.512253                      164.936821   \n",
              "1                           330.237371                       95.614195   \n",
              "2                           164.583134                      171.744052   \n",
              "3                           288.695935                       94.087514   \n",
              "4                           321.388710                      116.948954   \n",
              "\n",
              "   Discount Rate  \n",
              "0       0.032496  \n",
              "1       0.045884  \n",
              "2       0.035515  \n",
              "3       0.047542  \n",
              "4       0.048881  "
            ],
            "text/html": [
              "\n",
              "  <div id=\"df-cb215eb7-2026-4169-8dd0-bebeee3937df\" class=\"colab-df-container\">\n",
              "    <div>\n",
              "<style scoped>\n",
              "    .dataframe tbody tr th:only-of-type {\n",
              "        vertical-align: middle;\n",
              "    }\n",
              "\n",
              "    .dataframe tbody tr th {\n",
              "        vertical-align: top;\n",
              "    }\n",
              "\n",
              "    .dataframe thead th {\n",
              "        text-align: right;\n",
              "    }\n",
              "</style>\n",
              "<table border=\"1\" class=\"dataframe\">\n",
              "  <thead>\n",
              "    <tr style=\"text-align: right;\">\n",
              "      <th></th>\n",
              "      <th>Policy ID</th>\n",
              "      <th>Inception Date</th>\n",
              "      <th>Coverage Period (Years)</th>\n",
              "      <th>Annual Premium (CU)</th>\n",
              "      <th>Expected Annual Claims (CU)</th>\n",
              "      <th>Discount Rate (%)</th>\n",
              "      <th>Risk Adjustment (CU)</th>\n",
              "      <th>Directly Attributable Expenses (CU)</th>\n",
              "      <th>Non-Attributable Expenses (CU)</th>\n",
              "      <th>Discount Rate</th>\n",
              "    </tr>\n",
              "  </thead>\n",
              "  <tbody>\n",
              "    <tr>\n",
              "      <th>0</th>\n",
              "      <td>1</td>\n",
              "      <td>2023-01-01</td>\n",
              "      <td>7</td>\n",
              "      <td>1981</td>\n",
              "      <td>828</td>\n",
              "      <td>3.249642</td>\n",
              "      <td>53.964607</td>\n",
              "      <td>337.512253</td>\n",
              "      <td>164.936821</td>\n",
              "      <td>0.032496</td>\n",
              "    </tr>\n",
              "    <tr>\n",
              "      <th>1</th>\n",
              "      <td>2</td>\n",
              "      <td>2023-01-02</td>\n",
              "      <td>15</td>\n",
              "      <td>2401</td>\n",
              "      <td>2757</td>\n",
              "      <td>4.588421</td>\n",
              "      <td>46.169848</td>\n",
              "      <td>330.237371</td>\n",
              "      <td>95.614195</td>\n",
              "      <td>0.045884</td>\n",
              "    </tr>\n",
              "    <tr>\n",
              "      <th>2</th>\n",
              "      <td>3</td>\n",
              "      <td>2023-01-03</td>\n",
              "      <td>11</td>\n",
              "      <td>3951</td>\n",
              "      <td>1931</td>\n",
              "      <td>3.551535</td>\n",
              "      <td>23.832194</td>\n",
              "      <td>164.583134</td>\n",
              "      <td>171.744052</td>\n",
              "      <td>0.035515</td>\n",
              "    </tr>\n",
              "    <tr>\n",
              "      <th>3</th>\n",
              "      <td>4</td>\n",
              "      <td>2023-01-04</td>\n",
              "      <td>8</td>\n",
              "      <td>4564</td>\n",
              "      <td>745</td>\n",
              "      <td>4.754181</td>\n",
              "      <td>61.534651</td>\n",
              "      <td>288.695935</td>\n",
              "      <td>94.087514</td>\n",
              "      <td>0.047542</td>\n",
              "    </tr>\n",
              "    <tr>\n",
              "      <th>4</th>\n",
              "      <td>5</td>\n",
              "      <td>2023-01-05</td>\n",
              "      <td>7</td>\n",
              "      <td>554</td>\n",
              "      <td>1787</td>\n",
              "      <td>4.888084</td>\n",
              "      <td>34.931127</td>\n",
              "      <td>321.388710</td>\n",
              "      <td>116.948954</td>\n",
              "      <td>0.048881</td>\n",
              "    </tr>\n",
              "  </tbody>\n",
              "</table>\n",
              "</div>\n",
              "    <div class=\"colab-df-buttons\">\n",
              "\n",
              "  <div class=\"colab-df-container\">\n",
              "    <button class=\"colab-df-convert\" onclick=\"convertToInteractive('df-cb215eb7-2026-4169-8dd0-bebeee3937df')\"\n",
              "            title=\"Convert this dataframe to an interactive table.\"\n",
              "            style=\"display:none;\">\n",
              "\n",
              "  <svg xmlns=\"http://www.w3.org/2000/svg\" height=\"24px\" viewBox=\"0 -960 960 960\">\n",
              "    <path d=\"M120-120v-720h720v720H120Zm60-500h600v-160H180v160Zm220 220h160v-160H400v160Zm0 220h160v-160H400v160ZM180-400h160v-160H180v160Zm440 0h160v-160H620v160ZM180-180h160v-160H180v160Zm440 0h160v-160H620v160Z\"/>\n",
              "  </svg>\n",
              "    </button>\n",
              "\n",
              "  <style>\n",
              "    .colab-df-container {\n",
              "      display:flex;\n",
              "      gap: 12px;\n",
              "    }\n",
              "\n",
              "    .colab-df-convert {\n",
              "      background-color: #E8F0FE;\n",
              "      border: none;\n",
              "      border-radius: 50%;\n",
              "      cursor: pointer;\n",
              "      display: none;\n",
              "      fill: #1967D2;\n",
              "      height: 32px;\n",
              "      padding: 0 0 0 0;\n",
              "      width: 32px;\n",
              "    }\n",
              "\n",
              "    .colab-df-convert:hover {\n",
              "      background-color: #E2EBFA;\n",
              "      box-shadow: 0px 1px 2px rgba(60, 64, 67, 0.3), 0px 1px 3px 1px rgba(60, 64, 67, 0.15);\n",
              "      fill: #174EA6;\n",
              "    }\n",
              "\n",
              "    .colab-df-buttons div {\n",
              "      margin-bottom: 4px;\n",
              "    }\n",
              "\n",
              "    [theme=dark] .colab-df-convert {\n",
              "      background-color: #3B4455;\n",
              "      fill: #D2E3FC;\n",
              "    }\n",
              "\n",
              "    [theme=dark] .colab-df-convert:hover {\n",
              "      background-color: #434B5C;\n",
              "      box-shadow: 0px 1px 3px 1px rgba(0, 0, 0, 0.15);\n",
              "      filter: drop-shadow(0px 1px 2px rgba(0, 0, 0, 0.3));\n",
              "      fill: #FFFFFF;\n",
              "    }\n",
              "  </style>\n",
              "\n",
              "    <script>\n",
              "      const buttonEl =\n",
              "        document.querySelector('#df-cb215eb7-2026-4169-8dd0-bebeee3937df button.colab-df-convert');\n",
              "      buttonEl.style.display =\n",
              "        google.colab.kernel.accessAllowed ? 'block' : 'none';\n",
              "\n",
              "      async function convertToInteractive(key) {\n",
              "        const element = document.querySelector('#df-cb215eb7-2026-4169-8dd0-bebeee3937df');\n",
              "        const dataTable =\n",
              "          await google.colab.kernel.invokeFunction('convertToInteractive',\n",
              "                                                    [key], {});\n",
              "        if (!dataTable) return;\n",
              "\n",
              "        const docLinkHtml = 'Like what you see? Visit the ' +\n",
              "          '<a target=\"_blank\" href=https://colab.research.google.com/notebooks/data_table.ipynb>data table notebook</a>'\n",
              "          + ' to learn more about interactive tables.';\n",
              "        element.innerHTML = '';\n",
              "        dataTable['output_type'] = 'display_data';\n",
              "        await google.colab.output.renderOutput(dataTable, element);\n",
              "        const docLink = document.createElement('div');\n",
              "        docLink.innerHTML = docLinkHtml;\n",
              "        element.appendChild(docLink);\n",
              "      }\n",
              "    </script>\n",
              "  </div>\n",
              "\n",
              "\n",
              "<div id=\"df-74eaeaf6-c07c-4e22-a5e4-b42885838976\">\n",
              "  <button class=\"colab-df-quickchart\" onclick=\"quickchart('df-74eaeaf6-c07c-4e22-a5e4-b42885838976')\"\n",
              "            title=\"Suggest charts\"\n",
              "            style=\"display:none;\">\n",
              "\n",
              "<svg xmlns=\"http://www.w3.org/2000/svg\" height=\"24px\"viewBox=\"0 0 24 24\"\n",
              "     width=\"24px\">\n",
              "    <g>\n",
              "        <path d=\"M19 3H5c-1.1 0-2 .9-2 2v14c0 1.1.9 2 2 2h14c1.1 0 2-.9 2-2V5c0-1.1-.9-2-2-2zM9 17H7v-7h2v7zm4 0h-2V7h2v10zm4 0h-2v-4h2v4z\"/>\n",
              "    </g>\n",
              "</svg>\n",
              "  </button>\n",
              "\n",
              "<style>\n",
              "  .colab-df-quickchart {\n",
              "      --bg-color: #E8F0FE;\n",
              "      --fill-color: #1967D2;\n",
              "      --hover-bg-color: #E2EBFA;\n",
              "      --hover-fill-color: #174EA6;\n",
              "      --disabled-fill-color: #AAA;\n",
              "      --disabled-bg-color: #DDD;\n",
              "  }\n",
              "\n",
              "  [theme=dark] .colab-df-quickchart {\n",
              "      --bg-color: #3B4455;\n",
              "      --fill-color: #D2E3FC;\n",
              "      --hover-bg-color: #434B5C;\n",
              "      --hover-fill-color: #FFFFFF;\n",
              "      --disabled-bg-color: #3B4455;\n",
              "      --disabled-fill-color: #666;\n",
              "  }\n",
              "\n",
              "  .colab-df-quickchart {\n",
              "    background-color: var(--bg-color);\n",
              "    border: none;\n",
              "    border-radius: 50%;\n",
              "    cursor: pointer;\n",
              "    display: none;\n",
              "    fill: var(--fill-color);\n",
              "    height: 32px;\n",
              "    padding: 0;\n",
              "    width: 32px;\n",
              "  }\n",
              "\n",
              "  .colab-df-quickchart:hover {\n",
              "    background-color: var(--hover-bg-color);\n",
              "    box-shadow: 0 1px 2px rgba(60, 64, 67, 0.3), 0 1px 3px 1px rgba(60, 64, 67, 0.15);\n",
              "    fill: var(--button-hover-fill-color);\n",
              "  }\n",
              "\n",
              "  .colab-df-quickchart-complete:disabled,\n",
              "  .colab-df-quickchart-complete:disabled:hover {\n",
              "    background-color: var(--disabled-bg-color);\n",
              "    fill: var(--disabled-fill-color);\n",
              "    box-shadow: none;\n",
              "  }\n",
              "\n",
              "  .colab-df-spinner {\n",
              "    border: 2px solid var(--fill-color);\n",
              "    border-color: transparent;\n",
              "    border-bottom-color: var(--fill-color);\n",
              "    animation:\n",
              "      spin 1s steps(1) infinite;\n",
              "  }\n",
              "\n",
              "  @keyframes spin {\n",
              "    0% {\n",
              "      border-color: transparent;\n",
              "      border-bottom-color: var(--fill-color);\n",
              "      border-left-color: var(--fill-color);\n",
              "    }\n",
              "    20% {\n",
              "      border-color: transparent;\n",
              "      border-left-color: var(--fill-color);\n",
              "      border-top-color: var(--fill-color);\n",
              "    }\n",
              "    30% {\n",
              "      border-color: transparent;\n",
              "      border-left-color: var(--fill-color);\n",
              "      border-top-color: var(--fill-color);\n",
              "      border-right-color: var(--fill-color);\n",
              "    }\n",
              "    40% {\n",
              "      border-color: transparent;\n",
              "      border-right-color: var(--fill-color);\n",
              "      border-top-color: var(--fill-color);\n",
              "    }\n",
              "    60% {\n",
              "      border-color: transparent;\n",
              "      border-right-color: var(--fill-color);\n",
              "    }\n",
              "    80% {\n",
              "      border-color: transparent;\n",
              "      border-right-color: var(--fill-color);\n",
              "      border-bottom-color: var(--fill-color);\n",
              "    }\n",
              "    90% {\n",
              "      border-color: transparent;\n",
              "      border-bottom-color: var(--fill-color);\n",
              "    }\n",
              "  }\n",
              "</style>\n",
              "\n",
              "  <script>\n",
              "    async function quickchart(key) {\n",
              "      const quickchartButtonEl =\n",
              "        document.querySelector('#' + key + ' button');\n",
              "      quickchartButtonEl.disabled = true;  // To prevent multiple clicks.\n",
              "      quickchartButtonEl.classList.add('colab-df-spinner');\n",
              "      try {\n",
              "        const charts = await google.colab.kernel.invokeFunction(\n",
              "            'suggestCharts', [key], {});\n",
              "      } catch (error) {\n",
              "        console.error('Error during call to suggestCharts:', error);\n",
              "      }\n",
              "      quickchartButtonEl.classList.remove('colab-df-spinner');\n",
              "      quickchartButtonEl.classList.add('colab-df-quickchart-complete');\n",
              "    }\n",
              "    (() => {\n",
              "      let quickchartButtonEl =\n",
              "        document.querySelector('#df-74eaeaf6-c07c-4e22-a5e4-b42885838976 button');\n",
              "      quickchartButtonEl.style.display =\n",
              "        google.colab.kernel.accessAllowed ? 'block' : 'none';\n",
              "    })();\n",
              "  </script>\n",
              "</div>\n",
              "\n",
              "    </div>\n",
              "  </div>\n"
            ],
            "application/vnd.google.colaboratory.intrinsic+json": {
              "type": "dataframe",
              "variable_name": "df",
              "summary": "{\n  \"name\": \"df\",\n  \"rows\": 1000,\n  \"fields\": [\n    {\n      \"column\": \"Policy ID\",\n      \"properties\": {\n        \"dtype\": \"number\",\n        \"std\": 288,\n        \"min\": 1,\n        \"max\": 1000,\n        \"num_unique_values\": 1000,\n        \"samples\": [\n          522,\n          738,\n          741\n        ],\n        \"semantic_type\": \"\",\n        \"description\": \"\"\n      }\n    },\n    {\n      \"column\": \"Inception Date\",\n      \"properties\": {\n        \"dtype\": \"date\",\n        \"min\": \"2023-01-01 00:00:00\",\n        \"max\": \"2025-09-26 00:00:00\",\n        \"num_unique_values\": 1000,\n        \"samples\": [\n          \"2024-06-05 00:00:00\",\n          \"2025-01-07 00:00:00\",\n          \"2025-01-10 00:00:00\"\n        ],\n        \"semantic_type\": \"\",\n        \"description\": \"\"\n      }\n    },\n    {\n      \"column\": \"Coverage Period (Years)\",\n      \"properties\": {\n        \"dtype\": \"number\",\n        \"std\": 5,\n        \"min\": 1,\n        \"max\": 19,\n        \"num_unique_values\": 19,\n        \"samples\": [\n          7,\n          4,\n          17\n        ],\n        \"semantic_type\": \"\",\n        \"description\": \"\"\n      }\n    },\n    {\n      \"column\": \"Annual Premium (CU)\",\n      \"properties\": {\n        \"dtype\": \"number\",\n        \"std\": 1327,\n        \"min\": 501,\n        \"max\": 4997,\n        \"num_unique_values\": 905,\n        \"samples\": [\n          574,\n          2741,\n          4000\n        ],\n        \"semantic_type\": \"\",\n        \"description\": \"\"\n      }\n    },\n    {\n      \"column\": \"Expected Annual Claims (CU)\",\n      \"properties\": {\n        \"dtype\": \"number\",\n        \"std\": 782,\n        \"min\": 200,\n        \"max\": 2996,\n        \"num_unique_values\": 845,\n        \"samples\": [\n          1640,\n          1280,\n          858\n        ],\n        \"semantic_type\": \"\",\n        \"description\": \"\"\n      }\n    },\n    {\n      \"column\": \"Discount Rate (%)\",\n      \"properties\": {\n        \"dtype\": \"number\",\n        \"std\": 0.5781857079881276,\n        \"min\": 3.0000232695107325,\n        \"max\": 4.997785224066581,\n        \"num_unique_values\": 1000,\n        \"samples\": [\n          4.742828068381709,\n          3.23510260030044,\n          4.437479235707061\n        ],\n        \"semantic_type\": \"\",\n        \"description\": \"\"\n      }\n    },\n    {\n      \"column\": \"Risk Adjustment (CU)\",\n      \"properties\": {\n        \"dtype\": \"number\",\n        \"std\": 25.891546967490502,\n        \"min\": 10.002764696084418,\n        \"max\": 99.96019329253947,\n        \"num_unique_values\": 1000,\n        \"samples\": [\n          24.523062254954482,\n          83.80607518500844,\n          72.03793708924212\n        ],\n        \"semantic_type\": \"\",\n        \"description\": \"\"\n      }\n    },\n    {\n      \"column\": \"Directly Attributable Expenses (CU)\",\n      \"properties\": {\n        \"dtype\": \"number\",\n        \"std\": 114.82819244427655,\n        \"min\": 100.09081528730222,\n        \"max\": 499.5171743262618,\n        \"num_unique_values\": 1000,\n        \"samples\": [\n          338.92495133228476,\n          343.28455070657867,\n          191.33250094744434\n        ],\n        \"semantic_type\": \"\",\n        \"description\": \"\"\n      }\n    },\n    {\n      \"column\": \"Non-Attributable Expenses (CU)\",\n      \"properties\": {\n        \"dtype\": \"number\",\n        \"std\": 43.51455272460985,\n        \"min\": 50.58775624266399,\n        \"max\": 199.91910215895098,\n        \"num_unique_values\": 1000,\n        \"samples\": [\n          72.40724543396482,\n          170.4755767449097,\n          106.00297415477476\n        ],\n        \"semantic_type\": \"\",\n        \"description\": \"\"\n      }\n    },\n    {\n      \"column\": \"Discount Rate\",\n      \"properties\": {\n        \"dtype\": \"number\",\n        \"std\": 0.005781857079881273,\n        \"min\": 0.030000232695107324,\n        \"max\": 0.04997785224066581,\n        \"num_unique_values\": 1000,\n        \"samples\": [\n          0.04742828068381708,\n          0.0323510260030044,\n          0.044374792357070605\n        ],\n        \"semantic_type\": \"\",\n        \"description\": \"\"\n      }\n    }\n  ]\n}"
            }
          },
          "metadata": {},
          "execution_count": 17
        }
      ]
    },
    {
      "cell_type": "markdown",
      "source": [
        "# Calculate Fulfillment Cash Flows"
      ],
      "metadata": {
        "id": "9npjUwnJBjPY"
      }
    },
    {
      "cell_type": "code",
      "source": [
        "# Calculate the present value of future cash flows\n",
        "def calculate_present_value(cash_flow, discount_rate, periods):\n",
        "    return cash_flow / ((1 + discount_rate) ** periods)"
      ],
      "metadata": {
        "id": "EfdXTzwuBekz"
      },
      "execution_count": null,
      "outputs": []
    },
    {
      "cell_type": "code",
      "source": [
        "# Present value of premiums and claims\n",
        "df['Present Value of Premiums'] = df.apply(lambda x: calculate_present_value(\n",
        "    x['Annual Premium (CU)'] * x['Coverage Period (Years)'],\n",
        "    x['Discount Rate'], x['Coverage Period (Years)']), axis=1)\n",
        "\n",
        "df['Present Value of Claims'] = df.apply(lambda x: calculate_present_value(\n",
        "    x['Expected Annual Claims (CU)'] * x['Coverage Period (Years)'],\n",
        "    x['Discount Rate'], x['Coverage Period (Years)']), axis=1)\n",
        "\n",
        "# Present value of directly attributable expenses\n",
        "df['Present Value of Directly Attributable Expenses'] = df.apply(lambda x: calculate_present_value(\n",
        "    x['Directly Attributable Expenses (CU)'] * x['Coverage Period (Years)'],\n",
        "    x['Discount Rate'], x['Coverage Period (Years)']), axis=1)"
      ],
      "metadata": {
        "id": "bBfxJ23HBnZ4"
      },
      "execution_count": null,
      "outputs": []
    },
    {
      "cell_type": "markdown",
      "source": [
        "# Adjust CSM with Allocated Expenses"
      ],
      "metadata": {
        "id": "TYlIwIjLERYG"
      }
    },
    {
      "cell_type": "code",
      "source": [
        "# Adjust CSM to include directly attributable expenses\n",
        "df['CSM'] = df['Present Value of Premiums'] - df['Present Value of Claims'] - df['Risk Adjustment (CU)'] - df['Present Value of Directly Attributable Expenses']"
      ],
      "metadata": {
        "id": "IPWCdPeTEVdr"
      },
      "execution_count": null,
      "outputs": []
    },
    {
      "cell_type": "code",
      "source": [
        "# Simplified risk adjustment calculation\n",
        "df['Adjusted Risk'] = df['Risk Adjustment (CU)'] * df['Coverage Period (Years)']"
      ],
      "metadata": {
        "id": "1jdl1eZ7BoL2"
      },
      "execution_count": null,
      "outputs": []
    },
    {
      "cell_type": "markdown",
      "source": [
        "# Calculate Contractual Service Margin (CSM)"
      ],
      "metadata": {
        "id": "4sp00_x2CIzg"
      }
    },
    {
      "cell_type": "markdown",
      "source": [
        "# Calculate Risk Adjustment"
      ],
      "metadata": {
        "id": "CZAs8RzyB8sg"
      }
    },
    {
      "cell_type": "code",
      "source": [
        "# CSM - initial unearned profit example\n",
        "df['CSM'] = df['Present Value of Premiums'] - df['Present Value of Claims'] - df['Adjusted Risk']"
      ],
      "metadata": {
        "id": "UYcoKhiaCGEh"
      },
      "execution_count": null,
      "outputs": []
    },
    {
      "cell_type": "markdown",
      "source": [
        "# Calculate Liability"
      ],
      "metadata": {
        "id": "jekRV-kDCWsS"
      }
    },
    {
      "cell_type": "code",
      "source": [
        "# Total liability = present value of cash flows + risk adjustment + CSM\n",
        "df['Total Liability'] = df['Present Value of Claims'] + df['Adjusted Risk'] + df['CSM']"
      ],
      "metadata": {
        "id": "ZRXGEbPqCPJ3"
      },
      "execution_count": null,
      "outputs": []
    },
    {
      "cell_type": "markdown",
      "source": [
        "# Financial Reporting and Visualization"
      ],
      "metadata": {
        "id": "bI_9CU5-CmjO"
      }
    },
    {
      "cell_type": "code",
      "source": [
        "# Summarize the total liability, revenue, etc., for reporting\n",
        "summary = df[['Present Value of Premiums', 'Present Value of Claims', 'CSM', 'Total Liability']].sum()\n",
        "print(summary)\n",
        "\n",
        "# Visualize total liability distribution\n",
        "plt.figure(figsize=(10, 6))\n",
        "plt.hist(df['Total Liability'], bins=20)\n",
        "plt.title('Total Liability Distribution')\n",
        "plt.xlabel('Total Liability (CU)')\n",
        "plt.ylabel('Frequency')\n",
        "plt.show()"
      ],
      "metadata": {
        "colab": {
          "base_uri": "https://localhost:8080/",
          "height": 653
        },
        "id": "OuWU4zOwCcne",
        "outputId": "07ec1b0e-ce34-42dc-c14c-a7dfa88026fb"
      },
      "execution_count": null,
      "outputs": [
        {
          "output_type": "stream",
          "name": "stdout",
          "text": [
            "Present Value of Premiums    1.729498e+06\n",
            "Present Value of Claims      9.053541e+05\n",
            "CSM                          7.695957e+05\n",
            "Total Liability              1.729498e+06\n",
            "dtype: float64\n"
          ]
        },
        {
          "output_type": "display_data",
          "data": {
            "text/plain": [
              "<Figure size 1000x600 with 1 Axes>"
            ],
            "image/png": "[encoded data removed]"
          },
          "metadata": {}
        }
      ]
    }
  ]
}